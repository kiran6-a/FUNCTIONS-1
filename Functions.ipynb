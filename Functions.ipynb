{
  "nbformat": 4,
  "nbformat_minor": 0,
  "metadata": {
    "colab": {
      "provenance": []
    },
    "kernelspec": {
      "name": "python3",
      "display_name": "Python 3"
    },
    "language_info": {
      "name": "python"
    }
  },
  "cells": [
    {
      "cell_type": "markdown",
      "source": [
        "#Functions\n",
        "\n",
        "1. What is the difference between a function and a method in Python?\n",
        "--> Function: Standalone piece of code performing a task. Defined outside of classes.\n",
        "ex:\n",
        "def greet(name):\n",
        "    return f\"Hello, {name}!\"\n",
        "Method: Functions that belong to an object (instance of a class). Defined within classes.\n",
        "ex:\n",
        "class Greeter:\n",
        "    def greet(self):\n",
        "        return f\"Hello!\"\n",
        "\n",
        "2. Explain the concept of function arguments and parameters in Python?\n",
        "-->Parameters:\n",
        "\n",
        "Variables listed inside the parentheses in the function definition.\n",
        "\n",
        "They act as placeholders for the actual values you will pass to the function.\n",
        "\n",
        "Example:\n",
        "\n",
        "def greet(name):\n",
        "    return f\"Hello, {name}!\"\n",
        "Arguments:\n",
        "\n",
        "The actual values you pass to the function when calling it.\n",
        "\n",
        "They replace the parameters in the function definition.\n",
        "\n",
        "Example:\n",
        "\n",
        "print(greet(\"Alice\"))\n",
        "In short, parameters are the variable names in the function definition, and arguments are the real values you provide when calling the function.\n",
        "\n",
        "3. What are the different ways to define and call a function in Python?\n",
        "-->Defining Functions\n",
        "Standard Function Definition:\n",
        "\n",
        "The most common way to define a function.\n",
        "\n",
        "def greet(name):\n",
        "    return f\"Hello, {name}!\"\n",
        "Lambda Functions:\n",
        "\n",
        "Anonymous, single-expression functions.\n",
        "\n",
        "greet = lambda name: f\"Hello, {name}!\"\n",
        "Calling Functions\n",
        "Standard Call:\n",
        "\n",
        "Simply call the function with required arguments.\n",
        "\n",
        "print(greet(\"Alice\"))  # Output: Hello, Alice!\n",
        "Calling with Default Arguments:\n",
        "\n",
        "Functions can have default values for parameters.\n",
        "\n",
        "def greet(name=\"there\"):\n",
        "    return f\"Hello, {name}!\"\n",
        "\n",
        "print(greet())  # Output: Hello, there!\n",
        "print(greet(\"Alice\"))  # Output: Hello, Alice!\n",
        "Keyword Arguments:\n",
        "\n",
        "Specify arguments by their parameter names.\n",
        "\n",
        "def greet(name, greeting=\"Hello\"):\n",
        "    return f\"{greeting}, {name}!\"\n",
        "\n",
        "print(greet(name=\"Alice\", greeting=\"Hi\"))  # Output: Hi, Alice!\n",
        "Variable-Length Arguments:\n",
        "\n",
        "Functions that accept any number of positional or keyword arguments.\n",
        "\n",
        "def greet(*names):\n",
        "    return f\"Hello, {', '.join(names)}!\"\n",
        "\n",
        "print(greet(\"Alice\", \"Bob\", \"Charlie\"))  # Output: Hello, Alice, Bob, Charlie!\n",
        "\n",
        "def greet_with_titles(**kwargs):\n",
        "    for title, name in kwargs.items():\n",
        "        print(f\"{title} {name}\")\n",
        "\n",
        "greet_with_titles(Mr=\"Smith\", Dr=\"Brown\")\n",
        "\n",
        "4. What is the purpose of the `return` statement in a Python function?\n",
        "--> The return statement in a Python function serves a couple of important purposes:\n",
        "\n",
        "Output a Value:\n",
        "\n",
        "It allows the function to send a value back to the caller.\n",
        "\n",
        "def add(a, b):\n",
        "    return a + b\n",
        "\n",
        "result = add(2, 3)  # result will be 5\n",
        "Terminate a Function:\n",
        "\n",
        "It stops the function's execution and exits, optionally returning a value.\n",
        "\n",
        "def check_number(num):\n",
        "    if num > 0:\n",
        "        return \"Positive\"\n",
        "    return \"Non-positive\"\n",
        "\n",
        "result = check_number(-5)  # result will be \"Non-positive\"\n",
        "Without the return statement, a function would return None by default. It's essential for passing results or outcomes from a function's processing back to the caller.\n",
        "\n",
        " 5. What are iterators in Python and how do they differ from iterables?\n",
        "--> Iterators and iterables are fundamental concepts in Python. Here's a concise explanation:\n",
        "\n",
        "Iterables:\n",
        "Definition: Objects that can be looped over (iterated) using a loop.\n",
        "\n",
        "Examples: Lists, tuples, strings, dictionaries, sets.\n",
        "\n",
        "Special Method: Must implement the __iter__() method, which returns an iterator.\n",
        "\n",
        "Usage: Any object that you can iterate over using a for loop is an iterable.\n",
        "\n",
        "python\n",
        "my_list = [1, 2, 3]\n",
        "for item in my_list:\n",
        "    print(item)\n",
        "Iterators:\n",
        "Definition: Objects that represent a stream of data.\n",
        "\n",
        "Special Methods: Must implement two methods: __iter__() and __next__().\n",
        "\n",
        "Usage: Produced by calling iter() on an iterable. Use next() to get the next item.\n",
        "\n",
        "python\n",
        "my_list = [1, 2, 3]\n",
        "iterator = iter(my_list)\n",
        "\n",
        "print(next(iterator))  # Output: 1\n",
        "print(next(iterator))  # Output: 2\n",
        "print(next(iterator))  # Output: 3\n",
        "Key Differences:\n",
        "Iterable: Can be converted to an iterator using iter(). Examples include lists and strings.\n",
        "\n",
        "Iterator: Can fetch items one at a time using next(). Keeps track of its position during iteration.\n",
        "\n",
        " 6. Explain the concept of generators in Python and how they are defined.\n",
        "--> Generators in Python are a special type of iterators that allow you to iterate over data in a memory-efficient manner. Instead of storing all the values in memory at once, generators generate values on the fly, one at a time.\n",
        "\n",
        "Key Features:\n",
        "Lazy Evaluation: Generators produce items only when requested, which makes them memory-efficient.\n",
        "\n",
        "State Retention: They maintain their state between each iteration.\n",
        "\n",
        "Defining Generators:\n",
        "Generator Functions:\n",
        "\n",
        "Defined like regular functions but use the yield statement instead of return.\n",
        "\n",
        "Example:\n",
        "\n",
        "def count_up_to(max_value):\n",
        "    count = 1\n",
        "    while count <= max_value:\n",
        "        yield count\n",
        "        count += 1\n",
        "\n",
        "counter = count_up_to(5)\n",
        "for num in counter:\n",
        "    print(num)\n",
        "Generator Expressions:\n",
        "\n",
        "Similar to list comprehensions but with parentheses instead of square brackets.\n",
        "\n",
        "Example:\n",
        "\n",
        "squared_numbers = (x * x for x in range(5))\n",
        "for num in squared_numbers:\n",
        "    print(num)\n",
        "\n",
        " 7. What are the advantages of using generators over regular functions?\n",
        "--> Generators offer several advantages over regular functions:\n",
        "\n",
        "Memory Efficiency:\n",
        "\n",
        "Generators produce items one at a time and only when needed, which saves memory. Regular functions that return lists hold all elements in memory.\n",
        "\n",
        "Lazy Evaluation:\n",
        "\n",
        "Generators yield values on-the-fly. This lazy evaluation allows processing of large datasets that wouldn't fit into memory all at once.\n",
        "\n",
        "Performance:\n",
        "\n",
        "Generators often lead to faster and more responsive programs because they avoid the overhead of creating and storing all elements upfront.\n",
        "\n",
        "State Retention:\n",
        "\n",
        "Generators maintain their state between iterations, which can simplify the implementation of stateful iterations.\n",
        "\n",
        "Simplified Code:\n",
        "\n",
        "Using yield in generators can simplify the code needed for producing sequences, compared to managing list append operations in regular functions.\n",
        "\n",
        "Generators are particularly useful for tasks such as reading large files line-by-line, streaming data, and implementing infinite sequences. They offer an elegant and efficient way to handle data processing with minimal memory usage and improved performance.\n",
        "\n",
        "def square_numbers(n):\n",
        "    result = []\n",
        "    for i in range(n):\n",
        "        result.append(i * i)\n",
        "    return result\n",
        "\n",
        "squares = square_numbers(5)\n",
        "for num in squares:\n",
        "    print(num)\n",
        "\n",
        " 8. What is a lambda function in Python and when is it typically used?\n",
        "--> A lambda function in Python is a small, anonymous function defined with the lambda keyword. It can have any number of input parameters but only one expression. It's used for creating small, one-off functions without needing to formally define a function using the def keyword.\n",
        "\n",
        "Syntax:\n",
        "lambda arguments: expression\n",
        "Example:\n",
        "python\n",
        "add = lambda x, y: x + y\n",
        "print(add(2, 3))  # Output: 5\n",
        "Typical Uses:\n",
        "Short, throwaway functions: When a small function is needed temporarily.\n",
        "\n",
        "numbers = [1, 2, 3, 4, 5]\n",
        "squared = list(map(lambda x: x * x, numbers))\n",
        "print(squared)  # Output: [1, 4, 9, 16, 25]\n",
        "Sorting: Custom sorting logic can be implemented using lambda as the key function.\n",
        "\n",
        "python\n",
        "points = [(2, 3), (1, 2), (4, 1)]\n",
        "points_sorted = sorted(points, key=lambda point: point[1])\n",
        "print(points_sorted)  # Output: [(4, 1), (1, 2), (2, 3)]\n",
        "Filtering: Using filter() to remove elements based on a condition.\n",
        "\n",
        "numbers = [1, 2, 3, 4, 5]\n",
        "even_numbers = list(filter(lambda x: x % 2 == 0, numbers))\n",
        "print(even_numbers)  # Output: [2, 4]\n",
        "Lambda functions are handy for concise operations and are often used when the function is simple and used only a few times. They help keep the code clean and readable without the overhead of formal function definitions.\n",
        "\n",
        " 9. Explain the purpose and usage of the `map()` function in Python.\n",
        "-->The map() function in Python is used to apply a given function to each item of an iterable (like a list or a tuple) and return a map object (an iterator) of the results.\n",
        "\n",
        "Purpose:\n",
        "Transformation: It allows you to transform and process each element of an iterable without writing explicit loops.\n",
        "\n",
        "Syntax:\n",
        "map(function, iterable, ...)\n",
        "function: The function to apply to each element of the iterable.\n",
        "\n",
        "iterable: One or more iterables to apply the function to.\n",
        "\n",
        "Example:\n",
        "Here’s a simple example to double each number in a list:\n",
        "\n",
        "def double(x):\n",
        "    return x * 2\n",
        "\n",
        "numbers = [1, 2, 3, 4]\n",
        "doubled_numbers = map(double, numbers)\n",
        "\n",
        "print(list(doubled_numbers))  # Output: [2, 4, 6, 8]\n",
        "Using Lambda with map():\n",
        "For concise operations, lambda functions are often used with map():\n",
        "\n",
        "numbers = [1, 2, 3, 4]\n",
        "doubled_numbers = map(lambda x: x * 2, numbers)\n",
        "\n",
        "print(list(doubled_numbers))  # Output: [2, 4, 6, 8]\n",
        "Multiple Iterables:\n",
        "You can also use map() with multiple iterables. The function will be applied to elements from each iterable in parallel:\n",
        "\n",
        "numbers1 = [1, 2, 3]\n",
        "numbers2 = [4, 5, 6]\n",
        "summed_numbers = map(lambda x, y: x + y, numbers1, numbers2)\n",
        "\n",
        "print(list(summed_numbers))\n",
        "\n",
        " 10. What is the difference between `map()`, `reduce()`, and `filter()` functions in Python?\n",
        "--> These three functions are key tools for functional programming in Python, each serving a distinct purpose:\n",
        "\n",
        "map()\n",
        "Purpose: Applies a given function to each item of an iterable (e.g., list) and returns a map object (iterator) of the results.\n",
        "\n",
        "Usage: For transforming data.\n",
        "\n",
        "Example:\n",
        "numbers = [1, 2, 3, 4]\n",
        "doubled = map(lambda x: x * 2, numbers)\n",
        "print(list(doubled))  # Output: [2, 4, 6, 8]\n",
        "filter()\n",
        "Purpose: Applies a given function to each item of an iterable and returns an iterator with items for which the function returns True.\n",
        "\n",
        "Usage: For filtering data.\n",
        "\n",
        "Example:\n",
        "numbers = [1, 2, 3, 4]\n",
        "even_numbers = filter(lambda x: x % 2 == 0, numbers)\n",
        "print(list(even_numbers))  # Output: [2, 4]\n",
        "reduce()\n",
        "Purpose: Applies a given function cumulatively to the items of an iterable, from left to right, to reduce the iterable to a single value.\n",
        "\n",
        "Usage: For aggregating data.\n",
        "\n",
        "Example:\n",
        "from functools import reduce\n",
        "\n",
        "numbers = [1, 2, 3, 4]\n",
        "sum_of_numbers = reduce(lambda x, y: x + y, numbers)\n",
        "print(sum_of_numbers)\n",
        "\n",
        "11. Using pen & Paper write the internal mechanism for sum operation using reduce function on this given list:[47,11,42,13];\n",
        "--> The reduce function from the functools module in Python allows us to perform a cumulative operation on a list. Here's how you can visualize the internal mechanism of the sum operation using reduce on the list [47, 11, 42, 13]:\n",
        "\n",
        "Code:\n",
        "from functools import reduce\n",
        "\n",
        "numbers = [47, 11, 42, 13]\n",
        "sum_of_numbers = reduce(lambda x, y: x + y, numbers)\n",
        "print(sum_of_numbers)  # Output: 113\n",
        "\n"
      ],
      "metadata": {
        "id": "s9NOUOwfZqTY"
      }
    },
    {
      "cell_type": "code",
      "execution_count": 2,
      "metadata": {
        "colab": {
          "base_uri": "https://localhost:8080/"
        },
        "id": "C6hSTdpGZktJ",
        "outputId": "f80513a6-f388-40e0-c812-229b6359e380"
      },
      "outputs": [
        {
          "output_type": "stream",
          "name": "stdout",
          "text": [
            "12\n"
          ]
        }
      ],
      "source": [
        "#practical Questions\n",
        " #1. Write a Python function that takes a list of numbers as input and returns the sum of all even numbers in the list\n",
        "\n",
        "def sum_of_even_numbers(numbers):\n",
        "    return sum(number for number in numbers if number % 2 == 0)\n",
        "\n",
        "numbers = [1, 2, 3, 4, 5, 6]\n",
        "result = sum_of_even_numbers(numbers)\n",
        "print(result)\n"
      ]
    },
    {
      "cell_type": "code",
      "source": [
        " #2. Create a Python function that accepts a string and returns the reverse of that string?\n",
        "\n",
        " def reverse_string(s):\n",
        "    return s[::-1]\n",
        "\n",
        "input_string = \"hello\"\n",
        "reversed_string = reverse_string(input_string)\n",
        "print(reversed_string)  # Output: \"olleh\"\n"
      ],
      "metadata": {
        "colab": {
          "base_uri": "https://localhost:8080/"
        },
        "id": "hNsL9Orie-ol",
        "outputId": "9f14cf43-801a-4c76-f1cf-9992d2b8c047"
      },
      "execution_count": 3,
      "outputs": [
        {
          "output_type": "stream",
          "name": "stdout",
          "text": [
            "olleh\n"
          ]
        }
      ]
    },
    {
      "cell_type": "code",
      "source": [
        "# 3. Implement a Python function that takes a list of integers and returns a new list containing the squares of each number.\n",
        "\n",
        "def square_numbers(numbers):\n",
        "    return [number ** 2 for number in numbers]\n",
        "\n",
        "numbers = [1, 2, 3, 4, 5]\n",
        "squared_numbers = square_numbers(numbers)\n",
        "print(squared_numbers)  # Output: [1, 4, 9, 16, 25]\n"
      ],
      "metadata": {
        "colab": {
          "base_uri": "https://localhost:8080/"
        },
        "id": "RmwU0FzlfWFI",
        "outputId": "b12b1218-05f0-4999-d90e-17ade04b4847"
      },
      "execution_count": 4,
      "outputs": [
        {
          "output_type": "stream",
          "name": "stdout",
          "text": [
            "[1, 4, 9, 16, 25]\n"
          ]
        }
      ]
    },
    {
      "cell_type": "code",
      "source": [
        "#4. Write a Python function that checks if a given number is prime or not from 1 to 200?\n",
        "\n",
        "def is_prime(n):\n",
        "    if n <= 1:\n",
        "        return False\n",
        "    for i in range(2, n):\n",
        "        if n % i == 0:\n",
        "            return False\n",
        "    return True\n",
        "\n",
        "# Example usage:\n",
        "number = 17\n",
        "if is_prime(number):\n",
        "    print(f\"{number} is a prime number.\")\n",
        "else:\n",
        "    print(f\"{number} is not a prime number.\")\n",
        "\n"
      ],
      "metadata": {
        "colab": {
          "base_uri": "https://localhost:8080/"
        },
        "id": "dY7uobmMfwUZ",
        "outputId": "b8b3187b-d8a3-4a2e-a238-25e63eb77e35"
      },
      "execution_count": 12,
      "outputs": [
        {
          "output_type": "stream",
          "name": "stdout",
          "text": [
            "17 is a prime number.\n"
          ]
        }
      ]
    },
    {
      "cell_type": "code",
      "source": [
        "#5. Create an iterator class in Python that generates the Fibonacci sequence up to a specified number of terms?\n",
        "class FibonacciIterator:\n",
        "    def __init__(self, num_terms):\n",
        "        self.num_terms = num_terms\n",
        "        self.index = 0\n",
        "        self.a, self.b = 0, 1\n",
        "\n",
        "    def __iter__(self):\n",
        "        return self\n",
        "\n",
        "    def __next__(self):\n",
        "        if self.index >= self.num_terms:\n",
        "            raise StopIteration\n",
        "        if self.index == 0:\n",
        "            self.index += 1\n",
        "            return self.a\n",
        "        elif self.index == 1:\n",
        "            self.index += 1\n",
        "            return self.b\n",
        "        else:\n",
        "            self.a, self.b = self.b, self.a + self.b\n",
        "            self.index += 1\n",
        "            return self.a\n",
        "\n",
        "# Usage example\n",
        "num_terms = 10  # Specify the number of terms you want\n",
        "fib_sequence = FibonacciIterator(num_terms)\n",
        "\n",
        "for number in fib_sequence:\n",
        "    print(number)\n"
      ],
      "metadata": {
        "colab": {
          "base_uri": "https://localhost:8080/"
        },
        "id": "bTrrGGkQf6Qn",
        "outputId": "1b582820-c6b9-4ecd-b561-b488fb933c4c"
      },
      "execution_count": 13,
      "outputs": [
        {
          "output_type": "stream",
          "name": "stdout",
          "text": [
            "0\n",
            "1\n",
            "1\n",
            "1\n",
            "2\n",
            "3\n",
            "5\n",
            "8\n",
            "13\n",
            "21\n"
          ]
        }
      ]
    },
    {
      "cell_type": "code",
      "source": [
        "# 6. Write a generator function in Python that yields the powers of 2 up to a given exponent.?\n",
        "def powers_of_two(exponent):\n",
        "    for n in range(exponent + 1):\n",
        "        yield 2 ** n\n",
        "\n",
        "# Usage example\n",
        "exponent = 10  # Specify the maximum exponent you want\n",
        "for power in powers_of_two(exponent):\n",
        "    print(power)\n"
      ],
      "metadata": {
        "colab": {
          "base_uri": "https://localhost:8080/"
        },
        "id": "G4wsfE3BgsN1",
        "outputId": "776fb880-4a39-4f65-b91b-ca8ee323692c"
      },
      "execution_count": 14,
      "outputs": [
        {
          "output_type": "stream",
          "name": "stdout",
          "text": [
            "1\n",
            "2\n",
            "4\n",
            "8\n",
            "16\n",
            "32\n",
            "64\n",
            "128\n",
            "256\n",
            "512\n",
            "1024\n"
          ]
        }
      ]
    },
    {
      "cell_type": "code",
      "source": [
        "#7. Implement a generator function that reads a file line by line and yields each line as a string.?\n",
        "\n",
        "def file_reader(file_path):\n",
        "    try:\n",
        "        with open(file_path, 'r') as file:\n",
        "            while True:\n",
        "                line = file.readline()\n",
        "                if not line:\n",
        "                    break\n",
        "                yield line.strip()\n",
        "    except FileNotFoundError:\n",
        "        print(\"The file was not found.\")\n",
        "    except IOError:\n",
        "        print(\"An error occurred while reading the file.\")\n",
        "\n",
        "# Usage example\n",
        "file_path = 'your_file.txt'  # Specify the path to your file\n",
        "for line in file_reader(file_path):\n",
        "    print(line)\n",
        "\n"
      ],
      "metadata": {
        "colab": {
          "base_uri": "https://localhost:8080/"
        },
        "id": "QfSc-Y92g3NT",
        "outputId": "4ab60128-7380-4312-a26b-0b9206611c8a"
      },
      "execution_count": 17,
      "outputs": [
        {
          "output_type": "stream",
          "name": "stdout",
          "text": [
            "The file was not found.\n"
          ]
        }
      ]
    },
    {
      "cell_type": "code",
      "source": [
        "#8. Use a lambda function in Python to sort a list of tuples based on the second element of each tuple.?\n",
        "# Sample list of tuples\n",
        "tuples_list = [(1, 5), (2, 3), (4, 1), (5, 2), (3, 4)]\n",
        "\n",
        "# Sorting the list based on the second element of each tuple\n",
        "sorted_list = sorted(tuples_list, key=lambda x: x[1])\n",
        "\n",
        "print(sorted_list)\n"
      ],
      "metadata": {
        "colab": {
          "base_uri": "https://localhost:8080/"
        },
        "id": "p4AVZU0vhCR7",
        "outputId": "eadf33e0-1d55-4cf8-cab7-ade54ce7a591"
      },
      "execution_count": 18,
      "outputs": [
        {
          "output_type": "stream",
          "name": "stdout",
          "text": [
            "[(4, 1), (5, 2), (2, 3), (3, 4), (1, 5)]\n"
          ]
        }
      ]
    },
    {
      "cell_type": "code",
      "source": [
        "# 9. Write a Python program that uses `map()` to convert a list of temperatures from Celsius to Fahrenheit.?\n",
        "# Function to convert Celsius to Fahrenheit\n",
        "def celsius_to_fahrenheit(celsius):\n",
        "    return (celsius * 9/5) + 32\n",
        "\n",
        "# List of temperatures in Celsius\n",
        "celsius_temperatures = [0, 10, 20, 30, 40, 100]\n",
        "\n",
        "# Using map() to apply the conversion to each temperature\n",
        "fahrenheit_temperatures = list(map(celsius_to_fahrenheit, celsius_temperatures))\n",
        "\n",
        "print(fahrenheit_temperatures)\n"
      ],
      "metadata": {
        "colab": {
          "base_uri": "https://localhost:8080/"
        },
        "id": "jsLnv4XehhhO",
        "outputId": "9b74ad01-d4de-44c2-88d6-050df3e65874"
      },
      "execution_count": 19,
      "outputs": [
        {
          "output_type": "stream",
          "name": "stdout",
          "text": [
            "[32.0, 50.0, 68.0, 86.0, 104.0, 212.0]\n"
          ]
        }
      ]
    },
    {
      "cell_type": "code",
      "source": [
        "#10. Create a Python program that uses `filter()` to remove all the vowels from a given string?\n",
        "# Function to check if a character is not a vowel\n",
        "def is_not_vowel(char):\n",
        "    vowels = 'aeiouAEIOU'\n",
        "    return char not in vowels\n",
        "\n",
        "# Given string\n",
        "input_string = \"Hello World!\"\n",
        "\n",
        "# Using filter() to remove vowels from the string\n",
        "filtered_string = ''.join(filter(is_not_vowel, input_string))\n",
        "\n",
        "print(filtered_string)\n"
      ],
      "metadata": {
        "colab": {
          "base_uri": "https://localhost:8080/"
        },
        "id": "Ok9glKhMhqj-",
        "outputId": "270a54b2-e9f6-4cc2-bceb-4c83d9de6238"
      },
      "execution_count": 20,
      "outputs": [
        {
          "output_type": "stream",
          "name": "stdout",
          "text": [
            "Hll Wrld!\n"
          ]
        }
      ]
    },
    {
      "cell_type": "code",
      "source": [
        "# 11) Imagine an accounting routine used in a book shop. It works on a list with sublists, which look like this:\n",
        "\n",
        "order_numbers = [34587, 98762, 77226, 88112]\n",
        "quantities = [4, 5, 3, 3]\n",
        "prices_per_item = [40.95, 56.80, 32.95, 24.99]\n",
        "\n",
        "calculate_total = lambda qty, price: qty * price if qty * price >= 100 else qty * price + 10\n",
        "\n",
        "order_totals = list(map(lambda order, qty, price: (order, calculate_total(qty, price)),\n",
        "                        order_numbers, quantities, prices_per_item))\n",
        "\n",
        "print(order_totals)\n"
      ],
      "metadata": {
        "colab": {
          "base_uri": "https://localhost:8080/"
        },
        "id": "kxoIMbyBh0KX",
        "outputId": "a39f3491-f190-4b06-b4b5-5b1bce1c926e"
      },
      "execution_count": 21,
      "outputs": [
        {
          "output_type": "stream",
          "name": "stdout",
          "text": [
            "[(34587, 163.8), (98762, 284.0), (77226, 108.85000000000001), (88112, 84.97)]\n"
          ]
        }
      ]
    },
    {
      "cell_type": "code",
      "source": [
        "\n"
      ],
      "metadata": {
        "id": "NFiXWZbzjTPX"
      },
      "execution_count": null,
      "outputs": []
    },
    {
      "cell_type": "code",
      "source": [],
      "metadata": {
        "id": "nGrOIKbKjaS_"
      },
      "execution_count": null,
      "outputs": []
    },
    {
      "cell_type": "code",
      "source": [
        "#theory questions example running examples\n",
        "# 1. What is the difference between a function and a method in Python?\n",
        "\n",
        "# Function example\n",
        "def greet():\n",
        "    return \"Hello!\"\n",
        "\n",
        "# Method example\n",
        "class Greeter:\n",
        "    def greet(self):\n",
        "        return \"Hello!\"\n",
        "\n",
        "greeter = Greeter()\n",
        "print(greeter.greet())  # Calling the method\n"
      ],
      "metadata": {
        "colab": {
          "base_uri": "https://localhost:8080/"
        },
        "id": "Gew-HNvpjaHg",
        "outputId": "ef20a280-cc1b-4411-e296-dde610e7c141"
      },
      "execution_count": 22,
      "outputs": [
        {
          "output_type": "stream",
          "name": "stdout",
          "text": [
            "Hello!\n"
          ]
        }
      ]
    },
    {
      "cell_type": "code",
      "source": [
        "# 2. Explain the concept of function arguments and parameters in Python.\n",
        "\n",
        "def add(a, b):  # a and b are parameters\n",
        "    return a + b\n",
        "\n",
        "result = add(5, 3)  # 5 and 3 are arguments\n",
        "print(result)  # This will output 8\n",
        "\n"
      ],
      "metadata": {
        "colab": {
          "base_uri": "https://localhost:8080/"
        },
        "id": "LvDbcpQ9kYHJ",
        "outputId": "945d5646-652b-4972-e6c0-656ae133dd2b"
      },
      "execution_count": 35,
      "outputs": [
        {
          "output_type": "stream",
          "name": "stdout",
          "text": [
            "8\n"
          ]
        }
      ]
    },
    {
      "cell_type": "code",
      "source": [
        "# 3. What are the different ways to define and call a function in Python?\n",
        "\n",
        "# Using the def keyword\n",
        "def greet():\n",
        "    return \"Hello!\"\n",
        "\n",
        "print(greet())  # Calling the function\n",
        "\n",
        "# Using lambda (anonymous function)\n",
        "greet_lambda = lambda: \"Hello!\"\n",
        "print(greet_lambda())  # Calling the lambda function\n"
      ],
      "metadata": {
        "colab": {
          "base_uri": "https://localhost:8080/"
        },
        "id": "9tWq-9u7knfX",
        "outputId": "af075754-7734-4a93-9900-b762de328f25"
      },
      "execution_count": 26,
      "outputs": [
        {
          "output_type": "stream",
          "name": "stdout",
          "text": [
            "Hello!\n",
            "Hello!\n"
          ]
        }
      ]
    },
    {
      "cell_type": "code",
      "source": [
        "# 4. What is the purpose of the `return` statement in a Python function?\n",
        "\n",
        "def multiply(a, b):\n",
        "    return a * b  # Returns the product of a and b\n",
        "\n",
        "result = multiply(4, 5)\n",
        "print(result)  # Output: 20\n"
      ],
      "metadata": {
        "colab": {
          "base_uri": "https://localhost:8080/"
        },
        "id": "k6PBHln4kpOc",
        "outputId": "1a52dca2-28e4-40aa-f126-70ee32f7d82d"
      },
      "execution_count": 27,
      "outputs": [
        {
          "output_type": "stream",
          "name": "stdout",
          "text": [
            "20\n"
          ]
        }
      ]
    },
    {
      "cell_type": "code",
      "source": [
        "# 5. What are iterators in Python and how do they differ from iterables?\n",
        "iterable = [1, 2, 3]\n",
        "iterator = iter(iterable)\n",
        "\n",
        "print(next(iterator))  # Output: 1\n",
        "print(next(iterator))  # Output: 2\n",
        "print(next(iterator))  # Output: 3\n"
      ],
      "metadata": {
        "colab": {
          "base_uri": "https://localhost:8080/"
        },
        "id": "ARTfnu0PkybK",
        "outputId": "9fae9018-c148-4ec4-d6c0-92ca4a44c201"
      },
      "execution_count": 28,
      "outputs": [
        {
          "output_type": "stream",
          "name": "stdout",
          "text": [
            "1\n",
            "2\n",
            "3\n"
          ]
        }
      ]
    },
    {
      "cell_type": "code",
      "source": [
        "# 6. Explain the concept of generators in Python and how they are defined.\n",
        "def fibonacci_generator():\n",
        "    a, b = 0, 1\n",
        "    while True:\n",
        "        yield a\n",
        "        a, b = b, a + b\n",
        "\n",
        "fib_gen = fibonacci_generator()\n",
        "for _ in range(5):\n",
        "    print(next(fib_gen))  # Output: 0, 1, 1, 2, 3\n"
      ],
      "metadata": {
        "colab": {
          "base_uri": "https://localhost:8080/"
        },
        "id": "1VMv7CAkk6Gi",
        "outputId": "201dc59a-18b8-422f-a20e-146e62d16a4f"
      },
      "execution_count": 29,
      "outputs": [
        {
          "output_type": "stream",
          "name": "stdout",
          "text": [
            "0\n",
            "1\n",
            "1\n",
            "2\n",
            "3\n"
          ]
        }
      ]
    },
    {
      "cell_type": "code",
      "source": [
        "# 7. What are the advantages of using generators over regular functions?\n",
        "def simple_generator():\n",
        "    for i in range(5):\n",
        "        yield i\n",
        "\n",
        "gen = simple_generator()\n",
        "print(next(gen))  # Output: 0\n",
        "print(next(gen))  # Output: 1\n"
      ],
      "metadata": {
        "colab": {
          "base_uri": "https://localhost:8080/"
        },
        "id": "SS73sUOelBf-",
        "outputId": "14f89712-5fc8-483d-acc7-85bbfba324ee"
      },
      "execution_count": 30,
      "outputs": [
        {
          "output_type": "stream",
          "name": "stdout",
          "text": [
            "0\n",
            "1\n"
          ]
        }
      ]
    },
    {
      "cell_type": "code",
      "source": [
        "# 8. What is a lambda function in Python and when is it typically used?\n",
        "add = lambda x, y: x + y\n",
        "print(add(3, 5))  # Output: 8\n"
      ],
      "metadata": {
        "colab": {
          "base_uri": "https://localhost:8080/"
        },
        "id": "mCcZvFdPlILl",
        "outputId": "6aa97f2c-9fbe-4203-d7a9-3d5037a1ce28"
      },
      "execution_count": 31,
      "outputs": [
        {
          "output_type": "stream",
          "name": "stdout",
          "text": [
            "8\n"
          ]
        }
      ]
    },
    {
      "cell_type": "code",
      "source": [
        "# 9. Explain the purpose and usage of the `map()` function in Python.\n",
        "def square(x):\n",
        "    return x * x\n",
        "\n",
        "numbers = [1, 2, 3, 4]\n",
        "squared_numbers = list(map(square, numbers))\n",
        "print(squared_numbers)  # Output: [1, 4, 9, 16]\n"
      ],
      "metadata": {
        "colab": {
          "base_uri": "https://localhost:8080/"
        },
        "id": "GRfyynz7lPET",
        "outputId": "8b242864-e87d-4951-dc0b-c8ff8a1ec4a2"
      },
      "execution_count": 32,
      "outputs": [
        {
          "output_type": "stream",
          "name": "stdout",
          "text": [
            "[1, 4, 9, 16]\n"
          ]
        }
      ]
    },
    {
      "cell_type": "code",
      "source": [
        "# 10. What is the difference between `map()`, `reduce()`, and `filter()` functions in Python?\n",
        "from functools import reduce\n",
        "\n",
        "numbers = [1, 2, 3, 4]\n",
        "\n",
        "# Using map\n",
        "squared = list(map(lambda x: x * x, numbers))\n",
        "print(squared)"
      ],
      "metadata": {
        "colab": {
          "base_uri": "https://localhost:8080/"
        },
        "id": "-2f47TNMlY1l",
        "outputId": "23d4e4c0-d9b9-4077-f803-7081d0884b13"
      },
      "execution_count": 34,
      "outputs": [
        {
          "output_type": "stream",
          "name": "stdout",
          "text": [
            "[1, 4, 9, 16]\n"
          ]
        }
      ]
    },
    {
      "cell_type": "code",
      "source": [
        "#11.Using pen & Paper write the internal mechanism for sum operation using  reduce function on this given  list:[47,11,42,13];\n",
        "from functools import reduce\n",
        "\n",
        "# Define the sum operation\n",
        "sum_operation = lambda x, y: x + y\n",
        "\n",
        "# Apply the reduce function on the list\n",
        "result = reduce(sum_operation, [47, 11, 42, 13])\n",
        "\n",
        "print(result)  # Output: 113\n"
      ],
      "metadata": {
        "colab": {
          "base_uri": "https://localhost:8080/"
        },
        "id": "t8NxlEIdleNc",
        "outputId": "18208b98-5a9c-400b-8149-6fdea346f50f"
      },
      "execution_count": 36,
      "outputs": [
        {
          "output_type": "stream",
          "name": "stdout",
          "text": [
            "113\n"
          ]
        }
      ]
    },
    {
      "cell_type": "code",
      "source": [],
      "metadata": {
        "id": "hoWfCEnVmZ4q"
      },
      "execution_count": null,
      "outputs": []
    }
  ]
}